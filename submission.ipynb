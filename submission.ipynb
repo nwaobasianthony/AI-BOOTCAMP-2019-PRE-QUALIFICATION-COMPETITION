{
 "cells": [
  {
   "cell_type": "code",
   "execution_count": 3,
   "metadata": {},
   "outputs": [],
   "source": [
    "import pandas as pd\n",
    "import numpy as np\n",
    "from fastai.tabular import *\n",
    "from imblearn.over_sampling import RandomOverSampler, SMOTENC\n",
    "import seaborn as sns\n",
    "import matplotlib.pyplot as plt\n",
    "%matplotlib inline\n",
    "np.random.seed(10)\n",
    "import warnings\n",
    "warnings.filterwarnings(\"ignore\")\n",
    "\n",
    "#Single model classifiers\n",
    "from sklearn.linear_model import LogisticRegression\n",
    "from sklearn.tree import DecisionTreeClassifier\n",
    "\n",
    "#Ensemble classifications models\n",
    "from sklearn.ensemble import RandomForestClassifier, GradientBoostingClassifier\n",
    "\n",
    "#Model evaluation\n",
    "from sklearn.model_selection import train_test_split\n",
    "from sklearn.metrics import (accuracy_score,confusion_matrix, classification_report, roc_auc_score,\n",
    "f1_score, recall_score, precision_score, SCORERS)\n",
    "import time\n",
    "\n",
    "# Imbalance, Hyperparameter tunning and pipelines\n",
    "from imblearn.over_sampling import SMOTENC\n",
    "from sklearn.preprocessing import StandardScaler\n",
    "from sklearn.decomposition import PCA\n",
    "from sklearn.model_selection import GridSearchCV\n",
    "from sklearn.pipeline import Pipeline"
   ]
  },
  {
   "cell_type": "code",
   "execution_count": 4,
   "metadata": {},
   "outputs": [],
   "source": [
    "def distbox_plot(data):\n",
    "    '''Function to plot a seaborn distribution plot \n",
    "        with a box plot on top.\n",
    "        Reference: https://python-graph-gallery.com/24-histogram-with-a-boxplot-on-top-seaborn/'''\n",
    "    # Cut the window in 2 parts\n",
    "    f, (ax_box, ax_hist) = plt.subplots(2, sharex=True, figsize=(14,4),gridspec_kw={\"height_ratios\": (.15, .85)})\n",
    "    # Add a graph in each part\n",
    "    sns.boxplot(data, ax=ax_box)\n",
    "    sns.distplot(data, ax=ax_hist)\n",
    "    # Remove x axis name for the boxplot\n",
    "    ax_box.set(xlabel='')\n",
    "    #Print describtive statistics\n",
    "    print(data.describe())\n",
    "\n",
    "def baseline_models(data=[], verbose=False):\n",
    "    #List of models to be used\n",
    "    models=[DecisionTreeClassifier(),LogisticRegression(),\n",
    "            RandomForestClassifier(),GradientBoostingClassifier()]\n",
    "    #Create training and testing data sets depending on wheather or not they have been generated previously.\n",
    "    if len(data)== 2:\n",
    "        X_train, X_test, y_train, y_test = train_test_split(data[0],data[1],random_state=123)\n",
    "    else:\n",
    "        X_train, X_test, y_train, y_test = data[0],data[1],data[2],data[3]\n",
    "    #Instantiate lists to store each of the models results\n",
    "    accuracy = []\n",
    "    f1 = []\n",
    "    auc = []\n",
    "    recall = []\n",
    "    precision = []\n",
    "    #Run thorugh each of the models to get their performance metrics\n",
    "    for model in models:\n",
    "        clf = model\n",
    "        clf.fit(X_train, y_train)\n",
    "        test_preds = clf.predict(X_test)\n",
    "        f1.append(f1_score(y_test, test_preds))\n",
    "        accuracy.append(accuracy_score(y_test, test_preds))\n",
    "        auc.append(roc_auc_score(y_test, test_preds))\n",
    "        recall.append(recall_score(y_test, test_preds))\n",
    "        precision.append(precision_score(y_test, test_preds))\n",
    "        #Print the model and its report\n",
    "        if verbose:\n",
    "            print('Classification Model: ',model,'\\n')\n",
    "            print(classification_report(y_test, test_preds),'\\n')\n",
    "    #store results in dataframe\n",
    "    results = pd.DataFrame([f1,auc, accuracy, precision,recall],\n",
    "                      index= ['f1','roc_auc','accuracy','precision','recall',],\n",
    "                           columns=['DecisionTree','LogisticRegression','RandomForest','Gradient Boosting'])\n",
    "    #Change orientation of the dataframe\n",
    "    return results.transpose()\n",
    "\n",
    "def plot_feat_importance(clf,index):\n",
    "    '''Plot the 0 most important features for a classifier model in a bar chart\n",
    "    according to importance'''\n",
    "    feat_importances = pd.DataFrame(clf.feature_importances_, index=index, columns=['Score'])\n",
    "    feat_importances = feat_importances.sort_values(by='Score',ascending=True).tail(15)\n",
    "    feat_importances.plot(kind='barh', title='Top 10 Important Features',legend=False)\n",
    "    plt.xlabel('Importance Score')\n",
    "    plt.ylabel('Feature')\n",
    "    plt.show();\n",
    "    \n",
    "def heatmap(data,figsize=(8,8), annot=False):\n",
    "    #plot heatmap to find multicollinearity\n",
    "    plt.figure(figsize=figsize)\n",
    "    cmap = sns.diverging_palette(220, 20, sep=20, as_cmap=True)\n",
    "    sns.heatmap(data.corr(),vmin=-0.75,vmax=0.75,center=0, cmap=cmap,annot=annot);\n",
    "\n",
    "def grid_pipe(pipedict, hyperdict, scoring='f1', display=True):\n",
    "    model_scores=[]\n",
    "    fitted_models={}\n",
    "    for name, pipeline in pipedict.items():\n",
    "    # Construct grid search\n",
    "        model = GridSearchCV(estimator=pipeline,\n",
    "                             param_grid=hyperdict[name],\n",
    "                             scoring=scoring,\n",
    "                             cv=5, verbose=2, n_jobs=-1, return_train_score = True)\n",
    "\n",
    "        # Fit using grid search\n",
    "        start = time.time()\n",
    "        model.fit(X_trainres, y_trainres)\n",
    "        end = time.time()\n",
    "        #Append socres and time\n",
    "        model_scores.append((name,model.best_score_,end-start))\n",
    "        #Append model\n",
    "        fitted_models[name]=model\n",
    "        if display:\n",
    "            #Print when the model has been fitted\n",
    "            print(f'The {name} model has been fitted.')\n",
    "            # Best accuracy\n",
    "            print('Best accuracy: %.3f' % model.best_score_)\n",
    "            # Best params\n",
    "            print('Best params:\\n', model.best_params_,'\\n')\n",
    "    \n",
    "    return model_scores, fitted_models"
   ]
  },
  {
   "cell_type": "code",
   "execution_count": 5,
   "metadata": {},
   "outputs": [],
   "source": [
    "  \n",
    "# -*- coding: utf-8 -*-\n",
    "\"\"\"\n",
    "plot a pretty confusion matrix with seaborn\n",
    "Created on Mon Jun 25 14:17:37 2018\n",
    "@author: Wagner Cipriano - wagnerbhbr - gmail - CEFETMG / MMC\n",
    "REFerences:\n",
    "  https://www.mathworks.com/help/nnet/ref/plotconfusion.html\n",
    "  https://stackoverflow.com/questions/28200786/how-to-plot-scikit-learn-classification-report\n",
    "  https://stackoverflow.com/questions/5821125/how-to-plot-confusion-matrix-with-string-axis-rather-than-integer-in-python\n",
    "  https://www.programcreek.com/python/example/96197/seaborn.heatmap\n",
    "  https://stackoverflow.com/questions/19233771/sklearn-plot-confusion-matrix-with-labels/31720054\n",
    "  http://scikit-learn.org/stable/auto_examples/model_selection/plot_confusion_matrix.html#sphx-glr-auto-examples-model-selection-plot-confusion-matrix-py\n",
    "\"\"\"\n",
    "\n",
    "#imports\n",
    "from pandas import DataFrame\n",
    "import numpy as np\n",
    "import matplotlib.pyplot as plt\n",
    "import matplotlib.font_manager as fm\n",
    "from matplotlib.collections import QuadMesh\n",
    "import seaborn as sn\n",
    "\n",
    "\n",
    "def get_new_fig(fn, figsize=[9,9]):\n",
    "    \"\"\" Init graphics \"\"\"\n",
    "    fig1 = plt.figure(fn, figsize)\n",
    "    ax1 = fig1.gca()   #Get Current Axis\n",
    "    ax1.cla() # clear existing plot\n",
    "    return fig1, ax1\n",
    "#\n",
    "\n",
    "def configcell_text_and_colors(array_df, lin, col, oText, facecolors, posi, fz, fmt, show_null_values=0):\n",
    "    \"\"\"\n",
    "      config cell text and colors\n",
    "      and return text elements to add and to dell\n",
    "      @TODO: use fmt\n",
    "    \"\"\"\n",
    "    text_add = []; text_del = [];\n",
    "    cell_val = array_df[lin][col]\n",
    "    tot_all = array_df[-1][-1]\n",
    "    per = (float(cell_val) / tot_all) * 100\n",
    "    curr_column = array_df[:,col]\n",
    "    ccl = len(curr_column)\n",
    "\n",
    "    #last line  and/or last column\n",
    "    if(col == (ccl - 1)) or (lin == (ccl - 1)):\n",
    "        #tots and percents\n",
    "        if(cell_val != 0):\n",
    "            if(col == ccl - 1) and (lin == ccl - 1):\n",
    "                tot_rig = 0\n",
    "                for i in range(array_df.shape[0] - 1):\n",
    "                    tot_rig += array_df[i][i]\n",
    "                per_ok = (float(tot_rig) / cell_val) * 100\n",
    "            elif(col == ccl - 1):\n",
    "                tot_rig = array_df[lin][lin]\n",
    "                per_ok = (float(tot_rig) / cell_val) * 100\n",
    "            elif(lin == ccl - 1):\n",
    "                tot_rig = array_df[col][col]\n",
    "                per_ok = (float(tot_rig) / cell_val) * 100\n",
    "            per_err = 100 - per_ok\n",
    "        else:\n",
    "            per_ok = per_err = 0\n",
    "\n",
    "        per_ok_s = ['%.2f%%'%(per_ok), '100%'] [per_ok == 100]\n",
    "\n",
    "        #text to DEL\n",
    "        text_del.append(oText)\n",
    "\n",
    "        #text to ADD\n",
    "        font_prop = fm.FontProperties(weight='bold', size=fz)\n",
    "        text_kwargs = dict(color='k', ha=\"center\", va=\"center\", gid='sum', fontproperties=font_prop)\n",
    "        lis_txt = ['%d'%(cell_val), per_ok_s, '%.2f%%'%(per_err)]\n",
    "        lis_kwa = [text_kwargs]\n",
    "        dic = text_kwargs.copy(); dic['color'] = 'g'; lis_kwa.append(dic);\n",
    "        dic = text_kwargs.copy(); dic['color'] = 'r'; lis_kwa.append(dic);\n",
    "        lis_pos = [(oText._x, oText._y-0.3), (oText._x, oText._y), (oText._x, oText._y+0.3)]\n",
    "        for i in range(len(lis_txt)):\n",
    "            newText = dict(x=lis_pos[i][0], y=lis_pos[i][1], text=lis_txt[i], kw=lis_kwa[i])\n",
    "            #print 'lin: %s, col: %s, newText: %s' %(lin, col, newText)\n",
    "            text_add.append(newText)\n",
    "        #print '\\n'\n",
    "\n",
    "        #set background color for sum cells (last line and last column)\n",
    "        carr = [0.27, 0.30, 0.27, .1]\n",
    "        if(col == ccl - 1) and (lin == ccl - 1):\n",
    "            carr = [0.17, 0.20, 0.17, .1]\n",
    "        facecolors[posi] = carr\n",
    "\n",
    "    else:\n",
    "        if(per > 0):\n",
    "            txt = '%s\\n%.2f%%' %(cell_val, per)\n",
    "        else:\n",
    "            if(show_null_values == 0):\n",
    "                txt = ''\n",
    "            elif(show_null_values == 1):\n",
    "                txt = '0'\n",
    "            else:\n",
    "                txt = '0\\n0.0%'\n",
    "        oText.set_text(txt)\n",
    "\n",
    "        #main diagonal\n",
    "        if(col == lin):\n",
    "            #set color of the textin the diagonal to white\n",
    "            oText.set_color('w')\n",
    "            # set background color in the diagonal to blue\n",
    "            facecolors[posi] = [0.35, 0.8, 0.55, 1.0]\n",
    "        else:\n",
    "            oText.set_color('r')\n",
    "\n",
    "    return text_add, text_del\n",
    "#\n",
    "\n",
    "def insert_totals(df_cm):\n",
    "    \"\"\" insert total column and line (the last ones) \"\"\"\n",
    "    sum_col = []\n",
    "    for c in df_cm.columns:\n",
    "        sum_col.append( df_cm[c].sum() )\n",
    "    sum_lin = []\n",
    "    for item_line in df_cm.iterrows():\n",
    "        sum_lin.append( item_line[1].sum() )\n",
    "    df_cm['sum_lin'] = sum_lin\n",
    "    sum_col.append(np.sum(sum_lin))\n",
    "    df_cm.loc['sum_col'] = sum_col\n",
    "    #print ('\\ndf_cm:\\n', df_cm, '\\n\\b\\n')\n",
    "#\n",
    "\n",
    "def pretty_plot_confusion_matrix(df_cm, annot=True, cmap=\"Oranges\", fmt='.2f', fz=11,\n",
    "      lw=0.5, cbar=False, figsize=[8,8], show_null_values=0, pred_val_axis='y'):\n",
    "    \"\"\"\n",
    "      print conf matrix with default layout (like matlab)\n",
    "      params:\n",
    "        df_cm          dataframe (pandas) without totals\n",
    "        annot          print text in each cell\n",
    "        cmap           Oranges,Oranges_r,YlGnBu,Blues,RdBu, ... see:\n",
    "        fz             fontsize\n",
    "        lw             linewidth\n",
    "        pred_val_axis  where to show the prediction values (x or y axis)\n",
    "                        'col' or 'x': show predicted values in columns (x axis) instead lines\n",
    "                        'lin' or 'y': show predicted values in lines   (y axis)\n",
    "    \"\"\"\n",
    "    if(pred_val_axis in ('col', 'x')):\n",
    "        xlbl = 'Predicted'\n",
    "        ylbl = 'Actual'\n",
    "    else:\n",
    "        xlbl = 'Actual'\n",
    "        ylbl = 'Predicted'\n",
    "        df_cm = df_cm.T\n",
    "\n",
    "    # create \"Total\" column\n",
    "    insert_totals(df_cm)\n",
    "\n",
    "    #this is for print allways in the same window\n",
    "    fig, ax1 = get_new_fig('Conf matrix default', figsize)\n",
    "\n",
    "    #thanks for seaborn\n",
    "    ax = sn.heatmap(df_cm, annot=annot, annot_kws={\"size\": fz}, linewidths=lw, ax=ax1,\n",
    "                    cbar=cbar, cmap=cmap, linecolor='w', fmt=fmt)\n",
    "\n",
    "    #set ticklabels rotation\n",
    "    ax.set_xticklabels(ax.get_xticklabels(), rotation = 45, fontsize = 10)\n",
    "    ax.set_yticklabels(ax.get_yticklabels(), rotation = 25, fontsize = 10)\n",
    "\n",
    "    # Turn off all the ticks\n",
    "    for t in ax.xaxis.get_major_ticks():\n",
    "        t.tick1On = False\n",
    "        t.tick2On = False\n",
    "    for t in ax.yaxis.get_major_ticks():\n",
    "        t.tick1On = False\n",
    "        t.tick2On = False\n",
    "\n",
    "    #face colors list\n",
    "    quadmesh = ax.findobj(QuadMesh)[0]\n",
    "    facecolors = quadmesh.get_facecolors()\n",
    "\n",
    "    #iter in text elements\n",
    "    array_df = np.array( df_cm.to_records(index=False).tolist() )\n",
    "    text_add = []; text_del = [];\n",
    "    posi = -1 #from left to right, bottom to top.\n",
    "    for t in ax.collections[0].axes.texts: #ax.texts:\n",
    "        pos = np.array( t.get_position()) - [0.5,0.5]\n",
    "        lin = int(pos[1]); col = int(pos[0]);\n",
    "        posi += 1\n",
    "        #print ('>>> pos: %s, posi: %s, val: %s, txt: %s' %(pos, posi, array_df[lin][col], t.get_text()))\n",
    "\n",
    "        #set text\n",
    "        txt_res = configcell_text_and_colors(array_df, lin, col, t, facecolors, posi, fz, fmt, show_null_values)\n",
    "\n",
    "        text_add.extend(txt_res[0])\n",
    "        text_del.extend(txt_res[1])\n",
    "\n",
    "    #remove the old ones\n",
    "    for item in text_del:\n",
    "        item.remove()\n",
    "    #append the new ones\n",
    "    for item in text_add:\n",
    "        ax.text(item['x'], item['y'], item['text'], **item['kw'])\n",
    "\n",
    "    #titles and legends\n",
    "    ax.set_title('Confusion matrix')\n",
    "    ax.set_xlabel(xlbl)\n",
    "    ax.set_ylabel(ylbl)\n",
    "    plt.tight_layout()  #set layout slim\n",
    "    plt.show()\n",
    "#\n",
    "\n",
    "def plot_confusion_matrix_from_data(y_test, predictions, columns=None, annot=True, cmap=\"Oranges\",\n",
    "      fmt='.2f', fz=11, lw=0.5, cbar=False, figsize=[8,8], show_null_values=0, pred_val_axis='lin'):\n",
    "    \"\"\"\n",
    "        plot confusion matrix function with y_test (actual values) and predictions (predic),\n",
    "        whitout a confusion matrix yet\n",
    "    \"\"\"\n",
    "    from sklearn.metrics import confusion_matrix\n",
    "    from pandas import DataFrame\n",
    "\n",
    "    #data\n",
    "    if(not columns):\n",
    "        #labels axis integer:\n",
    "        ##columns = range(1, len(np.unique(y_test))+1)\n",
    "        #labels axis string:\n",
    "        from string import ascii_uppercase\n",
    "        columns = ['class %s' %(i) for i in list(ascii_uppercase)[0:len(np.unique(y_test))]]\n",
    "\n",
    "    confm = confusion_matrix(y_test, predictions)\n",
    "    df_cm = DataFrame(confm, index=columns, columns=columns)\n",
    "    pretty_plot_confusion_matrix(df_cm, fz=fz, cmap=cmap, figsize=figsize, show_null_values=show_null_values, pred_val_axis=pred_val_axis)"
   ]
  },
  {
   "cell_type": "code",
   "execution_count": 6,
   "metadata": {},
   "outputs": [],
   "source": [
    "train= pd.read_csv('train.csv')\n",
    "test= pd.read_csv('test.csv')\n",
    "sampleSubmission= pd.read_csv('sample_submission2.csv')"
   ]
  },
  {
   "cell_type": "code",
   "execution_count": 7,
   "metadata": {
    "scrolled": true
   },
   "outputs": [
    {
     "data": {
      "text/plain": [
       "EmployeeNo                             False\n",
       "Division                               False\n",
       "Qualification                           True\n",
       "Gender                                 False\n",
       "Channel_of_Recruitment                 False\n",
       "Trainings_Attended                     False\n",
       "Year_of_birth                          False\n",
       "Last_performance_score                 False\n",
       "Year_of_recruitment                    False\n",
       "Targets_met                            False\n",
       "Previous_Award                         False\n",
       "Training_score_average                 False\n",
       "State_Of_Origin                        False\n",
       "Foreign_schooled                       False\n",
       "Marital_Status                         False\n",
       "Past_Disciplinary_Action               False\n",
       "Previous_IntraDepartmental_Movement    False\n",
       "No_of_previous_employers               False\n",
       "Promoted_or_Not                        False\n",
       "dtype: bool"
      ]
     },
     "execution_count": 7,
     "metadata": {},
     "output_type": "execute_result"
    }
   ],
   "source": [
    "#Look for missing values.\n",
    "train.isna().any()"
   ]
  },
  {
   "cell_type": "code",
   "execution_count": 9,
   "metadata": {},
   "outputs": [
    {
     "data": {
      "text/plain": [
       "EmployeeNo                             False\n",
       "Division                               False\n",
       "Qualification                           True\n",
       "Gender                                 False\n",
       "Channel_of_Recruitment                 False\n",
       "Trainings_Attended                     False\n",
       "Year_of_birth                          False\n",
       "Last_performance_score                 False\n",
       "Year_of_recruitment                    False\n",
       "Targets_met                            False\n",
       "Previous_Award                         False\n",
       "Training_score_average                 False\n",
       "State_Of_Origin                        False\n",
       "Foreign_schooled                       False\n",
       "Marital_Status                         False\n",
       "Past_Disciplinary_Action               False\n",
       "Previous_IntraDepartmental_Movement    False\n",
       "No_of_previous_employers               False\n",
       "dtype: bool"
      ]
     },
     "execution_count": 9,
     "metadata": {},
     "output_type": "execute_result"
    }
   ],
   "source": [
    "#Look for missing values.\n",
    "test.isna().any()"
   ]
  },
  {
   "cell_type": "markdown",
   "metadata": {},
   "source": [
    "It's obvious that the Qualification feature has some missing values in both the train and set dataset"
   ]
  },
  {
   "cell_type": "code",
   "execution_count": 10,
   "metadata": {},
   "outputs": [],
   "source": [
    "test_id = test['EmployeeNo'] "
   ]
  },
  {
   "cell_type": "code",
   "execution_count": 11,
   "metadata": {},
   "outputs": [],
   "source": [
    "pd.set_option('display.max_columns', None)"
   ]
  },
  {
   "cell_type": "code",
   "execution_count": 12,
   "metadata": {},
   "outputs": [],
   "source": [
    "#Merge both train and test data\n",
    "df = train.append(test, sort=False, ignore_index=True)"
   ]
  },
  {
   "cell_type": "code",
   "execution_count": 13,
   "metadata": {},
   "outputs": [
    {
     "name": "stdout",
     "output_type": "stream",
     "text": [
      "<class 'pandas.core.frame.DataFrame'>\n",
      "RangeIndex: 54808 entries, 0 to 54807\n",
      "Data columns (total 19 columns):\n",
      "EmployeeNo                             54808 non-null object\n",
      "Division                               54808 non-null object\n",
      "Qualification                          52399 non-null object\n",
      "Gender                                 54808 non-null object\n",
      "Channel_of_Recruitment                 54808 non-null object\n",
      "Trainings_Attended                     54808 non-null int64\n",
      "Year_of_birth                          54808 non-null int64\n",
      "Last_performance_score                 54808 non-null float64\n",
      "Year_of_recruitment                    54808 non-null int64\n",
      "Targets_met                            54808 non-null int64\n",
      "Previous_Award                         54808 non-null int64\n",
      "Training_score_average                 54808 non-null int64\n",
      "State_Of_Origin                        54808 non-null object\n",
      "Foreign_schooled                       54808 non-null object\n",
      "Marital_Status                         54808 non-null object\n",
      "Past_Disciplinary_Action               54808 non-null object\n",
      "Previous_IntraDepartmental_Movement    54808 non-null object\n",
      "No_of_previous_employers               54808 non-null object\n",
      "Promoted_or_Not                        38312 non-null float64\n",
      "dtypes: float64(2), int64(6), object(11)\n",
      "memory usage: 7.9+ MB\n"
     ]
    }
   ],
   "source": [
    "df.info()"
   ]
  },
  {
   "cell_type": "markdown",
   "metadata": {},
   "source": [
    "## Feature ENgineering"
   ]
  },
  {
   "cell_type": "code",
   "execution_count": 14,
   "metadata": {},
   "outputs": [],
   "source": [
    "df.Qualification.replace(np.nan,'Null', inplace=True)"
   ]
  },
  {
   "cell_type": "code",
   "execution_count": 15,
   "metadata": {},
   "outputs": [],
   "source": [
    "l = df.Qualification.tolist()\n",
    "k=[]\n",
    "df['is_Qualification_na']=0\n",
    "k=df['is_Qualification_na'].tolist()"
   ]
  },
  {
   "cell_type": "code",
   "execution_count": 16,
   "metadata": {},
   "outputs": [
    {
     "data": {
      "text/plain": [
       "'First Degree or HND'"
      ]
     },
     "execution_count": 16,
     "metadata": {},
     "output_type": "execute_result"
    }
   ],
   "source": [
    "l[54807]"
   ]
  },
  {
   "cell_type": "code",
   "execution_count": null,
   "metadata": {},
   "outputs": [],
   "source": []
  },
  {
   "cell_type": "code",
   "execution_count": 17,
   "metadata": {},
   "outputs": [],
   "source": [
    "for i in range(54808):\n",
    "    if (l[i] == 'Null'):\n",
    "        k[i] = 1 \n",
    "    else:\n",
    "        k[i] = 0 \n",
    "            \n",
    "        \n"
   ]
  },
  {
   "cell_type": "code",
   "execution_count": 18,
   "metadata": {},
   "outputs": [
    {
     "data": {
      "text/plain": [
       "1"
      ]
     },
     "execution_count": 18,
     "metadata": {},
     "output_type": "execute_result"
    }
   ],
   "source": [
    "k[22]"
   ]
  },
  {
   "cell_type": "markdown",
   "metadata": {
    "collapsed": true
   },
   "source": [
    "North Central\n",
    "Benue, Kogi, Kwara, Nassarawa, Niger, Plateau, FCT\n",
    "\n",
    "North East\n",
    "Adamawa, Bauchi, Borno, Gombe, Taraba, Yobe\n",
    "\n",
    "North West\n",
    "Jigawa, Kaduna, Kano, Katsina, Kebbi, Sokoto,Zamfara\n",
    "\n",
    "South East\n",
    "Abia, Anambra, Ebonyi, Enugu Imo\n",
    "\n",
    "South South\n",
    "Akwa-Ibom, Bayelsa, Cross-River, Delta, Edo Rivers \n",
    "\n",
    "South West\n",
    "Ekiti, Lagos, Ogun, Ondo, Osun Oyo"
   ]
  },
  {
   "cell_type": "code",
   "execution_count": 19,
   "metadata": {},
   "outputs": [
    {
     "data": {
      "text/plain": [
       "0    52399\n",
       "1     2409\n",
       "Name: is_Qualification_na, dtype: int64"
      ]
     },
     "execution_count": 19,
     "metadata": {},
     "output_type": "execute_result"
    }
   ],
   "source": [
    "df['is_Qualification_na']=k\n",
    "df['is_Qualification_na'].count()\n",
    "df['is_Qualification_na'].value_counts()"
   ]
  },
  {
   "cell_type": "code",
   "execution_count": 20,
   "metadata": {},
   "outputs": [],
   "source": [
    "df.Qualification.replace('Null','Non-University Education', inplace=True)"
   ]
  },
  {
   "cell_type": "code",
   "execution_count": 21,
   "metadata": {},
   "outputs": [
    {
     "data": {
      "text/plain": [
       "First Degree or HND         36669\n",
       "MSc, MBA and PhD            14925\n",
       "Non-University Education     3214\n",
       "Name: Qualification, dtype: int64"
      ]
     },
     "execution_count": 21,
     "metadata": {},
     "output_type": "execute_result"
    }
   ],
   "source": [
    "#df.Qualification.iloc[22]\n",
    "df.Qualification.value_counts()"
   ]
  },
  {
   "cell_type": "code",
   "execution_count": 22,
   "metadata": {},
   "outputs": [],
   "source": [
    "state=[]\n",
    "geoZones=[2]\n",
    "state = df.State_Of_Origin.tolist()"
   ]
  },
  {
   "cell_type": "code",
   "execution_count": 23,
   "metadata": {},
   "outputs": [],
   "source": [
    "df['geoZones']=0\n",
    "geoZones = df['geoZones'].tolist()"
   ]
  },
  {
   "cell_type": "code",
   "execution_count": 24,
   "metadata": {},
   "outputs": [],
   "source": [
    "NorthCentral=['benue', 'kogi', 'kwara', 'nassarawa', 'niger', 'plateau', 'fct']\n",
    "NorthEast = ['adamawa', 'bauchi', 'borno', 'gombe', 'taraba', 'yobe']\n",
    "NorthWest =['jigawa', 'kaduna', 'kano', 'katsina', 'kebbi', 'sokoto','zamfara']\n",
    "SouthEast =['abia', 'anambra', 'ebonyi', 'enugu', 'imo']\n",
    "SouthSouth =['akwa ibom', 'bayelsa', 'cross river', 'delta', 'edo', 'rivers']\n",
    "SouthWest =['ekiti', 'lagos', 'ogun', 'ondo', 'osun', 'oyo']"
   ]
  },
  {
   "cell_type": "code",
   "execution_count": 25,
   "metadata": {},
   "outputs": [],
   "source": [
    "for i in range(df.State_Of_Origin.count()):\n",
    "    state[i] = state[i].lower()\n",
    "    "
   ]
  },
  {
   "cell_type": "code",
   "execution_count": 26,
   "metadata": {},
   "outputs": [],
   "source": [
    "df.State_Of_Origin=state\n"
   ]
  },
  {
   "cell_type": "code",
   "execution_count": 27,
   "metadata": {},
   "outputs": [
    {
     "data": {
      "text/plain": [
       "37"
      ]
     },
     "execution_count": 27,
     "metadata": {},
     "output_type": "execute_result"
    }
   ],
   "source": [
    "df.State_Of_Origin.nunique()"
   ]
  },
  {
   "cell_type": "code",
   "execution_count": 28,
   "metadata": {},
   "outputs": [],
   "source": [
    "for i in range(df.State_Of_Origin.count()):\n",
    "    if (state[i] in NorthCentral):\n",
    "        geoZones[i] = 'NorthCentral'\n",
    "    elif (state[i] in NorthEast):\n",
    "        geoZones[i] = 'NorthEast'\n",
    "    elif (state[i] in NorthWest):\n",
    "        geoZones[i] = 'NorthWest'\n",
    "    elif (state[i] in SouthEast):\n",
    "        geoZones[i] = 'SouthEast'\n",
    "    elif (state[i] in SouthSouth):\n",
    "        geoZones[i] = 'SouthSouth'\n",
    "    elif (state[i] in SouthWest):\n",
    "        geoZones[i] = 'SouthWest'"
   ]
  },
  {
   "cell_type": "code",
   "execution_count": 29,
   "metadata": {},
   "outputs": [],
   "source": [
    "df['geoZones'] = geoZones"
   ]
  },
  {
   "cell_type": "code",
   "execution_count": 30,
   "metadata": {},
   "outputs": [
    {
     "data": {
      "text/plain": [
       "array(['SouthEast', 'NorthWest', 'NorthCentral', 'SouthSouth', 'SouthWest', 'NorthEast'], dtype=object)"
      ]
     },
     "execution_count": 30,
     "metadata": {},
     "output_type": "execute_result"
    }
   ],
   "source": [
    "df.geoZones.unique()"
   ]
  },
  {
   "cell_type": "code",
   "execution_count": 31,
   "metadata": {},
   "outputs": [],
   "source": [
    "df['employedAge'] = df.Year_of_recruitment - df.Year_of_birth\n",
    "\n",
    "train = df.iloc[0:38312]\n",
    "test = df.iloc[38312:]\n",
    "\n",
    "train.Promoted_or_Not=train.Promoted_or_Not.astype(int)\n",
    "target = train.Promoted_or_Not\n",
    "#test = test.drop(['Promoted_or_Not'], axis = 1)"
   ]
  },
  {
   "cell_type": "code",
   "execution_count": 32,
   "metadata": {},
   "outputs": [
    {
     "name": "stdout",
     "output_type": "stream",
     "text": [
      "<class 'pandas.core.frame.DataFrame'>\n",
      "RangeIndex: 16496 entries, 38312 to 54807\n",
      "Data columns (total 22 columns):\n",
      "EmployeeNo                             16496 non-null object\n",
      "Division                               16496 non-null object\n",
      "Qualification                          16496 non-null object\n",
      "Gender                                 16496 non-null object\n",
      "Channel_of_Recruitment                 16496 non-null object\n",
      "Trainings_Attended                     16496 non-null int64\n",
      "Year_of_birth                          16496 non-null int64\n",
      "Last_performance_score                 16496 non-null float64\n",
      "Year_of_recruitment                    16496 non-null int64\n",
      "Targets_met                            16496 non-null int64\n",
      "Previous_Award                         16496 non-null int64\n",
      "Training_score_average                 16496 non-null int64\n",
      "State_Of_Origin                        16496 non-null object\n",
      "Foreign_schooled                       16496 non-null object\n",
      "Marital_Status                         16496 non-null object\n",
      "Past_Disciplinary_Action               16496 non-null object\n",
      "Previous_IntraDepartmental_Movement    16496 non-null object\n",
      "No_of_previous_employers               16496 non-null object\n",
      "Promoted_or_Not                        0 non-null float64\n",
      "is_Qualification_na                    16496 non-null int64\n",
      "geoZones                               16496 non-null object\n",
      "employedAge                            16496 non-null int64\n",
      "dtypes: float64(2), int64(8), object(12)\n",
      "memory usage: 2.8+ MB\n"
     ]
    }
   ],
   "source": [
    "test.info()"
   ]
  },
  {
   "cell_type": "code",
   "execution_count": 33,
   "metadata": {},
   "outputs": [],
   "source": [
    "#path = untar_data(train)\n",
    "\n",
    "path = Path('Users/ANTHONY-PC/01workspace/dsn Challenge')"
   ]
  },
  {
   "cell_type": "code",
   "execution_count": 34,
   "metadata": {},
   "outputs": [],
   "source": [
    "df = df.drop(['EmployeeNo'], axis = 1)"
   ]
  },
  {
   "cell_type": "code",
   "execution_count": 35,
   "metadata": {
    "scrolled": true
   },
   "outputs": [
    {
     "data": {
      "text/plain": [
       "6"
      ]
     },
     "execution_count": 35,
     "metadata": {},
     "output_type": "execute_result"
    }
   ],
   "source": [
    "df.Last_performance_score.nunique()"
   ]
  },
  {
   "cell_type": "code",
   "execution_count": 36,
   "metadata": {},
   "outputs": [],
   "source": [
    "data= df.copy()"
   ]
  },
  {
   "cell_type": "markdown",
   "metadata": {},
   "source": [
    "Now I will look at the non-numerical variables in the dataset."
   ]
  },
  {
   "cell_type": "code",
   "execution_count": 37,
   "metadata": {},
   "outputs": [
    {
     "name": "stdout",
     "output_type": "stream",
     "text": [
      "Non-numerical features:  ['geoZones', 'Past_Disciplinary_Action', 'Qualification', 'Division', 'No_of_previous_employers', 'State_Of_Origin', 'Previous_IntraDepartmental_Movement', 'Gender', 'Marital_Status', 'Channel_of_Recruitment', 'Foreign_schooled']\n"
     ]
    }
   ],
   "source": [
    "#Get non-numerical features.\n",
    "non_num_cols = list(set(data.columns) - set(data.describe().columns))\n",
    "print('Non-numerical features: ',non_num_cols)"
   ]
  },
  {
   "cell_type": "code",
   "execution_count": 38,
   "metadata": {},
   "outputs": [
    {
     "data": {
      "image/png": "[encoded data removed]",
      "text/plain": [
       "<Figure size 2160x2016 with 16 Axes>"
      ]
     },
     "metadata": {
      "needs_background": "light"
     },
     "output_type": "display_data"
    }
   ],
   "source": [
    "#Instantiate a 2x2 figure for the 4 plots.\n",
    "fig, axs = plt.subplots(4, 4,figsize=(30,28))\n",
    "#Create a bar chart for each of the non-numerical variables.\n",
    "for i, col in enumerate(non_num_cols):\n",
    "    #Helper variables to assign the correct axes to each of the 4 plots.\n",
    "    j=i//4\n",
    "    k=i%4\n",
    "    #Setting a color palette for the plots.\n",
    "    color = sns.color_palette(\"GnBu_d\",n_colors=len(data[col].unique()))\n",
    "    #Create the bar plot.\n",
    "    axs[j,k].bar(data[col].astype('str').unique(), data[col].value_counts(), color= color)\n",
    "    axs[j,k].set_title(col)\n",
    "    axs[j,k].set_ylabel('Frequency')\n",
    "    axs[j,k].set_xlabel('Category')\n",
    "plt.show();"
   ]
  },
  {
   "cell_type": "markdown",
   "metadata": {},
   "source": [
    "## One-hot-code categorical features"
   ]
  },
  {
   "cell_type": "code",
   "execution_count": 39,
   "metadata": {},
   "outputs": [],
   "source": [
    "nonum_feats_names=  ['Division', 'Qualification', 'Gender', 'Channel_of_Recruitment', 'State_Of_Origin', 'Foreign_schooled',\n",
    "             'Marital_Status', 'Past_Disciplinary_Action', 'Previous_IntraDepartmental_Movement',\n",
    "             'No_of_previous_employers', 'Year_of_recruitment', 'Year_of_birth', 'Trainings_Attended','Last_performance_score', \n",
    "             'Previous_Award', 'Targets_met', 'is_Qualification_na', 'geoZones',]\n",
    "num_cols_names= ['Training_score_average', 'employedAge']"
   ]
  },
  {
   "cell_type": "code",
   "execution_count": 40,
   "metadata": {},
   "outputs": [
    {
     "name": "stdout",
     "output_type": "stream",
     "text": [
      "<class 'pandas.core.frame.DataFrame'>\n",
      "RangeIndex: 54808 entries, 0 to 54807\n",
      "Data columns (total 18 columns):\n",
      "Division                               54808 non-null category\n",
      "Qualification                          54808 non-null category\n",
      "Gender                                 54808 non-null category\n",
      "Channel_of_Recruitment                 54808 non-null category\n",
      "State_Of_Origin                        54808 non-null category\n",
      "Foreign_schooled                       54808 non-null category\n",
      "Marital_Status                         54808 non-null category\n",
      "Past_Disciplinary_Action               54808 non-null category\n",
      "Previous_IntraDepartmental_Movement    54808 non-null category\n",
      "No_of_previous_employers               54808 non-null category\n",
      "Year_of_recruitment                    54808 non-null category\n",
      "Year_of_birth                          54808 non-null category\n",
      "Trainings_Attended                     54808 non-null category\n",
      "Last_performance_score                 54808 non-null category\n",
      "Previous_Award                         54808 non-null category\n",
      "Targets_met                            54808 non-null category\n",
      "is_Qualification_na                    54808 non-null category\n",
      "geoZones                               54808 non-null category\n",
      "dtypes: category(18)\n",
      "memory usage: 970.8 KB\n"
     ]
    }
   ],
   "source": [
    "#Assign appropriate data type to categorical variables.\n",
    "nonum_feats = data[nonum_feats_names].astype('category')\n",
    "nonum_feats.info()"
   ]
  },
  {
   "cell_type": "code",
   "execution_count": 41,
   "metadata": {},
   "outputs": [
    {
     "name": "stdout",
     "output_type": "stream",
     "text": [
      "<class 'pandas.core.frame.DataFrame'>\n",
      "RangeIndex: 54808 entries, 0 to 54807\n",
      "Columns: 164 entries, Division_Commercial Sales and Marketing to geoZones_SouthWest\n",
      "dtypes: uint8(164)\n",
      "memory usage: 8.6 MB\n"
     ]
    }
   ],
   "source": [
    "#One-hot-code categorical variables and dropping the reference value.\n",
    "ohc_feats = pd.get_dummies(nonum_feats,drop_first=True)\n",
    "ohc_feats.info()"
   ]
  },
  {
   "cell_type": "markdown",
   "metadata": {},
   "source": [
    "### 4.2 Plain Vanilla Classification Models\n",
    "\n",
    "The classifiers that I will be testing are:\n",
    "* Logistic Regression\n",
    "+ Decision Tree\n",
    "* Random Forest\n",
    "* Gradient Boosting"
   ]
  },
  {
   "cell_type": "code",
   "execution_count": 42,
   "metadata": {},
   "outputs": [
    {
     "data": {
      "text/plain": [
       "0    35071\n",
       "1     3241\n",
       "Name: Promoted_or_Not, dtype: int64"
      ]
     },
     "execution_count": 42,
     "metadata": {},
     "output_type": "execute_result"
    }
   ],
   "source": [
    "target.value_counts()"
   ]
  },
  {
   "cell_type": "code",
   "execution_count": 43,
   "metadata": {},
   "outputs": [
    {
     "data": {
      "text/plain": [
       "38312"
      ]
     },
     "execution_count": 43,
     "metadata": {},
     "output_type": "execute_result"
    }
   ],
   "source": [
    "target.count()"
   ]
  },
  {
   "cell_type": "code",
   "execution_count": 44,
   "metadata": {},
   "outputs": [],
   "source": [
    "ohc_data = pd.concat([data[num_cols_names], ohc_feats],axis=1)\n",
    "\n",
    "train = ohc_data.iloc[0:38312]\n",
    "test = ohc_data.iloc[38312:]"
   ]
  },
  {
   "cell_type": "code",
   "execution_count": 45,
   "metadata": {},
   "outputs": [
    {
     "name": "stdout",
     "output_type": "stream",
     "text": [
      "Classification Model:  DecisionTreeClassifier(class_weight=None, criterion='gini', max_depth=None,\n",
      "                       max_features=None, max_leaf_nodes=None,\n",
      "                       min_impurity_decrease=0.0, min_impurity_split=None,\n",
      "                       min_samples_leaf=1, min_samples_split=2,\n",
      "                       min_weight_fraction_leaf=0.0, presort=False,\n",
      "                       random_state=None, splitter='best') \n",
      "\n",
      "              precision    recall  f1-score   support\n",
      "\n",
      "           0       0.95      0.95      0.95      8739\n",
      "           1       0.44      0.45      0.44       839\n",
      "\n",
      "    accuracy                           0.90      9578\n",
      "   macro avg       0.69      0.70      0.69      9578\n",
      "weighted avg       0.90      0.90      0.90      9578\n",
      " \n",
      "\n",
      "Classification Model:  LogisticRegression(C=1.0, class_weight=None, dual=False, fit_intercept=True,\n",
      "                   intercept_scaling=1, l1_ratio=None, max_iter=100,\n",
      "                   multi_class='warn', n_jobs=None, penalty='l2',\n",
      "                   random_state=None, solver='warn', tol=0.0001, verbose=0,\n",
      "                   warm_start=False) \n",
      "\n",
      "              precision    recall  f1-score   support\n",
      "\n",
      "           0       0.93      1.00      0.96      8739\n",
      "           1       0.82      0.24      0.37       839\n",
      "\n",
      "    accuracy                           0.93      9578\n",
      "   macro avg       0.88      0.62      0.66      9578\n",
      "weighted avg       0.92      0.93      0.91      9578\n",
      " \n",
      "\n",
      "Classification Model:  RandomForestClassifier(bootstrap=True, class_weight=None, criterion='gini',\n",
      "                       max_depth=None, max_features='auto', max_leaf_nodes=None,\n",
      "                       min_impurity_decrease=0.0, min_impurity_split=None,\n",
      "                       min_samples_leaf=1, min_samples_split=2,\n",
      "                       min_weight_fraction_leaf=0.0, n_estimators=10,\n",
      "                       n_jobs=None, oob_score=False, random_state=None,\n",
      "                       verbose=0, warm_start=False) \n",
      "\n",
      "              precision    recall  f1-score   support\n",
      "\n",
      "           0       0.93      1.00      0.96      8739\n",
      "           1       0.84      0.18      0.30       839\n",
      "\n",
      "    accuracy                           0.93      9578\n",
      "   macro avg       0.88      0.59      0.63      9578\n",
      "weighted avg       0.92      0.93      0.90      9578\n",
      " \n",
      "\n",
      "Classification Model:  GradientBoostingClassifier(criterion='friedman_mse', init=None,\n",
      "                           learning_rate=0.1, loss='deviance', max_depth=3,\n",
      "                           max_features=None, max_leaf_nodes=None,\n",
      "                           min_impurity_decrease=0.0, min_impurity_split=None,\n",
      "                           min_samples_leaf=1, min_samples_split=2,\n",
      "                           min_weight_fraction_leaf=0.0, n_estimators=100,\n",
      "                           n_iter_no_change=None, presort='auto',\n",
      "                           random_state=None, subsample=1.0, tol=0.0001,\n",
      "                           validation_fraction=0.1, verbose=0,\n",
      "                           warm_start=False) \n",
      "\n",
      "              precision    recall  f1-score   support\n",
      "\n",
      "           0       0.94      1.00      0.97      8739\n",
      "           1       0.97      0.31      0.47       839\n",
      "\n",
      "    accuracy                           0.94      9578\n",
      "   macro avg       0.95      0.66      0.72      9578\n",
      "weighted avg       0.94      0.94      0.92      9578\n",
      " \n",
      "\n"
     ]
    }
   ],
   "source": [
    "results1 = baseline_models(data=[train,target], verbose=True)"
   ]
  },
  {
   "cell_type": "code",
   "execution_count": 46,
   "metadata": {},
   "outputs": [
    {
     "data": {
      "text/html": [
       "<div>\n",
       "<style scoped>\n",
       "    .dataframe tbody tr th:only-of-type {\n",
       "        vertical-align: middle;\n",
       "    }\n",
       "\n",
       "    .dataframe tbody tr th {\n",
       "        vertical-align: top;\n",
       "    }\n",
       "\n",
       "    .dataframe thead th {\n",
       "        text-align: right;\n",
       "    }\n",
       "</style>\n",
       "<table border=\"1\" class=\"dataframe\">\n",
       "  <thead>\n",
       "    <tr style=\"text-align: right;\">\n",
       "      <th></th>\n",
       "      <th>f1</th>\n",
       "      <th>roc_auc</th>\n",
       "      <th>accuracy</th>\n",
       "      <th>precision</th>\n",
       "      <th>recall</th>\n",
       "    </tr>\n",
       "  </thead>\n",
       "  <tbody>\n",
       "    <tr>\n",
       "      <th>Gradient Boosting</th>\n",
       "      <td>0.474820</td>\n",
       "      <td>0.656815</td>\n",
       "      <td>0.939027</td>\n",
       "      <td>0.967033</td>\n",
       "      <td>0.314660</td>\n",
       "    </tr>\n",
       "    <tr>\n",
       "      <th>DecisionTree</th>\n",
       "      <td>0.442080</td>\n",
       "      <td>0.695479</td>\n",
       "      <td>0.901441</td>\n",
       "      <td>0.438453</td>\n",
       "      <td>0.445769</td>\n",
       "    </tr>\n",
       "    <tr>\n",
       "      <th>LogisticRegression</th>\n",
       "      <td>0.367006</td>\n",
       "      <td>0.615595</td>\n",
       "      <td>0.928691</td>\n",
       "      <td>0.825000</td>\n",
       "      <td>0.235995</td>\n",
       "    </tr>\n",
       "    <tr>\n",
       "      <th>RandomForest</th>\n",
       "      <td>0.299706</td>\n",
       "      <td>0.589521</td>\n",
       "      <td>0.925350</td>\n",
       "      <td>0.840659</td>\n",
       "      <td>0.182360</td>\n",
       "    </tr>\n",
       "  </tbody>\n",
       "</table>\n",
       "</div>"
      ],
      "text/plain": [
       "                          f1   roc_auc  accuracy  precision    recall\n",
       "Gradient Boosting   0.474820  0.656815  0.939027   0.967033  0.314660\n",
       "DecisionTree        0.442080  0.695479  0.901441   0.438453  0.445769\n",
       "LogisticRegression  0.367006  0.615595  0.928691   0.825000  0.235995\n",
       "RandomForest        0.299706  0.589521  0.925350   0.840659  0.182360"
      ]
     },
     "execution_count": 46,
     "metadata": {},
     "output_type": "execute_result"
    }
   ],
   "source": [
    "#Display the results of the models as a dataframe\n",
    "#Sort models according to f1 score.\n",
    "results1.sort_values('f1',ascending=False)"
   ]
  },
  {
   "cell_type": "code",
   "execution_count": 47,
   "metadata": {},
   "outputs": [
    {
     "name": "stdout",
     "output_type": "stream",
     "text": [
      "Best Model per Metric\n",
      "F1: Gradient Boosting\n",
      "Roc_auc: DecisionTree\n",
      "Accuracy: Gradient Boosting\n",
      "Precision: Gradient Boosting\n",
      "Recall: DecisionTree\n"
     ]
    }
   ],
   "source": [
    "print('Best Model per Metric')\n",
    "for metric in results1.columns:\n",
    "    print(f'{metric.capitalize()}:',results1.sort_values(metric,ascending=False).index[0])"
   ]
  },
  {
   "cell_type": "markdown",
   "metadata": {},
   "source": [
    "The Gradient Boosting Classifier is the best performing so far. Being this a binary classification problem with an imbalanced dataset, I am mostly concerned with the f1 and roc_auc scores."
   ]
  },
  {
   "cell_type": "code",
   "execution_count": 48,
   "metadata": {
    "scrolled": true
   },
   "outputs": [
    {
     "data": {
      "image/png": "[encoded data removed]",
      "text/plain": [
       "<Figure size 432x288 with 1 Axes>"
      ]
     },
     "metadata": {
      "needs_background": "light"
     },
     "output_type": "display_data"
    }
   ],
   "source": [
    "X_train, X_test, y_train, y_test = train_test_split(train,target,random_state=123)\n",
    "clf = GradientBoostingClassifier()\n",
    "clf.fit(X_train,y_train)\n",
    "plot_feat_importance(clf, train.columns)"
   ]
  },
  {
   "cell_type": "code",
   "execution_count": 94,
   "metadata": {},
   "outputs": [
    {
     "data": {
      "image/png": "[encoded data removed]",
      "text/plain": [
       "<Figure size 432x288 with 1 Axes>"
      ]
     },
     "metadata": {
      "needs_background": "light"
     },
     "output_type": "display_data"
    }
   ],
   "source": [
    "X_train, X_test, y_train, y_test = train_test_split(train,target,random_state=123)\n",
    "clf = GradientBoostingClassifier()\n",
    "clf.fit(X_train,y_train)\n",
    "plot_feat_importance(clf, train.columns)"
   ]
  },
  {
   "cell_type": "code",
   "execution_count": 98,
   "metadata": {},
   "outputs": [],
   "source": [
    "'''Scaling the data first fitting it and transforming the training set\n",
    "to later aply the fit to transform the test set.'''\n",
    "#Instantiate Satandard Scaler\n",
    "scaler = StandardScaler()\n",
    "#Fit transform the numerical features in the training dataset to a new dataframe\n",
    "scaled_numfeats_train = pd.DataFrame(scaler.fit_transform(X_train[num_cols_names]), \n",
    "                                     columns=num_cols_names, index= X_train.index)\n",
    "#Integrate scaled values to the training set\n",
    "for col in num_cols_names:\n",
    "    X_train[col] = scaled_numfeats_train[col]\n",
    "#Transform the numerical features inthe training dataset to a new dataframe\n",
    "scaled_numfeats_test = pd.DataFrame(scaler.transform(X_test[num_cols_names]),\n",
    "                                    columns=num_cols_names, index= X_test.index)\n",
    "#Integrate scaled values to the test set\n",
    "for col in num_cols_names:\n",
    "    X_test[col] = scaled_numfeats_test[col]"
   ]
  },
  {
   "cell_type": "code",
   "execution_count": 99,
   "metadata": {},
   "outputs": [
    {
     "data": {
      "text/html": [
       "<div>\n",
       "<style scoped>\n",
       "    .dataframe tbody tr th:only-of-type {\n",
       "        vertical-align: middle;\n",
       "    }\n",
       "\n",
       "    .dataframe tbody tr th {\n",
       "        vertical-align: top;\n",
       "    }\n",
       "\n",
       "    .dataframe thead th {\n",
       "        text-align: right;\n",
       "    }\n",
       "</style>\n",
       "<table border=\"1\" class=\"dataframe\">\n",
       "  <thead>\n",
       "    <tr style=\"text-align: right;\">\n",
       "      <th></th>\n",
       "      <th>f1</th>\n",
       "      <th>roc_auc</th>\n",
       "      <th>accuracy</th>\n",
       "      <th>precision</th>\n",
       "      <th>recall</th>\n",
       "    </tr>\n",
       "  </thead>\n",
       "  <tbody>\n",
       "    <tr>\n",
       "      <th>Gradient Boosting</th>\n",
       "      <td>0.474820</td>\n",
       "      <td>0.656815</td>\n",
       "      <td>0.939027</td>\n",
       "      <td>0.967033</td>\n",
       "      <td>0.314660</td>\n",
       "    </tr>\n",
       "    <tr>\n",
       "      <th>DecisionTree</th>\n",
       "      <td>0.451765</td>\n",
       "      <td>0.701552</td>\n",
       "      <td>0.902694</td>\n",
       "      <td>0.445993</td>\n",
       "      <td>0.457688</td>\n",
       "    </tr>\n",
       "    <tr>\n",
       "      <th>LogisticRegression</th>\n",
       "      <td>0.400361</td>\n",
       "      <td>0.629554</td>\n",
       "      <td>0.930570</td>\n",
       "      <td>0.822222</td>\n",
       "      <td>0.264601</td>\n",
       "    </tr>\n",
       "    <tr>\n",
       "      <th>RandomForest</th>\n",
       "      <td>0.294758</td>\n",
       "      <td>0.587480</td>\n",
       "      <td>0.925559</td>\n",
       "      <td>0.866279</td>\n",
       "      <td>0.177592</td>\n",
       "    </tr>\n",
       "  </tbody>\n",
       "</table>\n",
       "</div>"
      ],
      "text/plain": [
       "                          f1   roc_auc  accuracy  precision    recall\n",
       "Gradient Boosting   0.474820  0.656815  0.939027   0.967033  0.314660\n",
       "DecisionTree        0.451765  0.701552  0.902694   0.445993  0.457688\n",
       "LogisticRegression  0.400361  0.629554  0.930570   0.822222  0.264601\n",
       "RandomForest        0.294758  0.587480  0.925559   0.866279  0.177592"
      ]
     },
     "execution_count": 99,
     "metadata": {},
     "output_type": "execute_result"
    }
   ],
   "source": [
    "results3 = baseline_models(data=[X_train, X_test, y_train, y_test])\n",
    "results3.sort_values('f1',ascending=False)"
   ]
  },
  {
   "cell_type": "markdown",
   "metadata": {},
   "source": [
    "The f1 scores of the baseline models improved by scaling the data. Especifically, gradient boosting saw the greatest performance increase from a little less than 63% to 67%. Now, in an effort to correct the imbalanced dataset I wil perform Synthetic Minority Over-sampling Technique to create synthetic data that helps the model balance the target incidence."
   ]
  },
  {
   "cell_type": "code",
   "execution_count": 125,
   "metadata": {},
   "outputs": [],
   "source": [
    "cat_col_index = list(range(len(num_cols_names),166))\n",
    "sm = SMOTENC(categorical_features=cat_col_index, random_state=123, n_jobs=-1)\n",
    "X_trainres, y_trainres = sm.fit_resample(X_train, y_train)"
   ]
  },
  {
   "cell_type": "code",
   "execution_count": 126,
   "metadata": {},
   "outputs": [],
   "source": [
    "#Find out the new target incidency rate.\n",
    "pd.DataFrame(y_trainres,columns=['outcome']).outcome.value_counts(normalize=False)"
   ]
  },
  {
   "cell_type": "code",
   "execution_count": 127,
   "metadata": {},
   "outputs": [
    {
     "data": {
      "text/plain": [
       "0    26332\n",
       "1     2402\n",
       "Name: Promoted_or_Not, dtype: int64"
      ]
     },
     "execution_count": 127,
     "metadata": {},
     "output_type": "execute_result"
    }
   ],
   "source": [
    "y_train.value_counts()"
   ]
  },
  {
   "cell_type": "code",
   "execution_count": 128,
   "metadata": {},
   "outputs": [
    {
     "data": {
      "text/html": [
       "<div>\n",
       "<style scoped>\n",
       "    .dataframe tbody tr th:only-of-type {\n",
       "        vertical-align: middle;\n",
       "    }\n",
       "\n",
       "    .dataframe tbody tr th {\n",
       "        vertical-align: top;\n",
       "    }\n",
       "\n",
       "    .dataframe thead th {\n",
       "        text-align: right;\n",
       "    }\n",
       "</style>\n",
       "<table border=\"1\" class=\"dataframe\">\n",
       "  <thead>\n",
       "    <tr style=\"text-align: right;\">\n",
       "      <th></th>\n",
       "      <th>f1</th>\n",
       "      <th>roc_auc</th>\n",
       "      <th>accuracy</th>\n",
       "      <th>precision</th>\n",
       "      <th>recall</th>\n",
       "    </tr>\n",
       "  </thead>\n",
       "  <tbody>\n",
       "    <tr>\n",
       "      <th>DecisionTree</th>\n",
       "      <td>0.400883</td>\n",
       "      <td>0.681485</td>\n",
       "      <td>0.886720</td>\n",
       "      <td>0.373457</td>\n",
       "      <td>0.432658</td>\n",
       "    </tr>\n",
       "    <tr>\n",
       "      <th>LogisticRegression</th>\n",
       "      <td>0.385913</td>\n",
       "      <td>0.641801</td>\n",
       "      <td>0.912612</td>\n",
       "      <td>0.501908</td>\n",
       "      <td>0.313468</td>\n",
       "    </tr>\n",
       "    <tr>\n",
       "      <th>Gradient Boosting</th>\n",
       "      <td>0.356250</td>\n",
       "      <td>0.718297</td>\n",
       "      <td>0.806431</td>\n",
       "      <td>0.251347</td>\n",
       "      <td>0.611442</td>\n",
       "    </tr>\n",
       "    <tr>\n",
       "      <th>RandomForest</th>\n",
       "      <td>0.283881</td>\n",
       "      <td>0.592266</td>\n",
       "      <td>0.906766</td>\n",
       "      <td>0.433824</td>\n",
       "      <td>0.210965</td>\n",
       "    </tr>\n",
       "  </tbody>\n",
       "</table>\n",
       "</div>"
      ],
      "text/plain": [
       "                          f1   roc_auc  accuracy  precision    recall\n",
       "DecisionTree        0.400883  0.681485  0.886720   0.373457  0.432658\n",
       "LogisticRegression  0.385913  0.641801  0.912612   0.501908  0.313468\n",
       "Gradient Boosting   0.356250  0.718297  0.806431   0.251347  0.611442\n",
       "RandomForest        0.283881  0.592266  0.906766   0.433824  0.210965"
      ]
     },
     "execution_count": 128,
     "metadata": {},
     "output_type": "execute_result"
    }
   ],
   "source": [
    "results4 = baseline_models(data=[X_trainres, X_test, y_trainres, y_test])\n",
    "results4.sort_values('f1',ascending=False)"
   ]
  },
  {
   "cell_type": "code",
   "execution_count": 129,
   "metadata": {},
   "outputs": [
    {
     "data": {
      "image/png": "[encoded data removed]",
      "text/plain": [
       "<Figure size 864x432 with 1 Axes>"
      ]
     },
     "metadata": {
      "needs_background": "light"
     },
     "output_type": "display_data"
    }
   ],
   "source": [
    "#Instantiate Principal Component Analysis.\n",
    "pca=PCA()\n",
    "X_pca = pca.fit_transform(X_trainres)\n",
    "fig = plt.figure(figsize=(12,6))\n",
    "plt.plot(range(1,X_trainres.shape[1]+1), pca.explained_variance_ratio_.cumsum())\n",
    "plt.title('Explained Variance versus Number of Features')\n",
    "plt.ylabel('Explained Variance')\n",
    "plt.xlabel('Number of Features')\n",
    "plt.show();"
   ]
  },
  {
   "cell_type": "code",
   "execution_count": 132,
   "metadata": {},
   "outputs": [
    {
     "name": "stdout",
     "output_type": "stream",
     "text": [
      "Number of Fetaures:  40 Total Explained Variance:  85.55 %\n",
      "Number of Fetaures:  50 Total Explained Variance:  89.76 %\n",
      "Number of Fetaures:  60 Total Explained Variance:  92.72 %\n",
      "Number of Fetaures:  70 Total Explained Variance:  94.78 %\n"
     ]
    }
   ],
   "source": [
    "for n in [40,50,60,70]:\n",
    "    pca_n = PCA(n_components=n)\n",
    "    X_pcan = pca_n.fit_transform(X_trainres)\n",
    "    tev = round(np.sum(pca_n.explained_variance_ratio_)*100,2)\n",
    "    print('Number of Fetaures: ',n, 'Total Explained Variance: ',tev,'%')"
   ]
  },
  {
   "cell_type": "code",
   "execution_count": 144,
   "metadata": {},
   "outputs": [],
   "source": [
    "#Create pipeline for each of the classifiers.\n",
    "pipelines = {#'logisticregression': Pipeline([('pca', PCA()),\n",
    "             #                               ('clf', LogisticRegression(random_state=123))]),\n",
    "            #'decisiontree':Pipeline([('pca', PCA()),\n",
    "             #                               ('clf', DecisionTreeClassifier(random_state=123))]),\n",
    "            #'randomforest':Pipeline([('pca', PCA()),\n",
    "             #                               ('clf', RandomForestClassifier(random_state=123))]),\n",
    "            'gradientboosting': Pipeline([('pca', PCA()),\n",
    "                                            ('clf', GradientBoostingClassifier(random_state=123))])}\n",
    "\n",
    "#Define Hyperparameters for each pipeline\n",
    "hyperparameters_lr ={'pca__n_components': [50,60,70],\n",
    "                     'clf__C': [0.01,0.1,1]}\n",
    "\n",
    "hyperparameters_dt ={'pca__n_components': [50,60,70],\n",
    "                     'clf__criterion': ['entropy', 'gini'], \n",
    "                     'clf__max_depth': [4, 5, 6],  \n",
    "                     'clf__min_samples_leaf':[0.05 ,0.1, 0.2],  \n",
    "                     'clf__min_samples_split':[0.05 ,0.1, 0.2]}\n",
    "\n",
    "hyperparameters_rf ={'pca__n_components': [50,60,70],\n",
    "                     'clf__n_estimators': [100,150],\n",
    "                     'clf__criterion': ['entropy', 'gini'], \n",
    "                     'clf__max_depth': [4, 5, 6],  \n",
    "                     'clf__min_samples_leaf':[0.05 ,0.1, 0.2],  \n",
    "                     'clf__min_samples_split':[0.05 ,0.1, 0.2]}\n",
    "\n",
    "hyperparameters_gb ={'pca__n_components': [50,60,70],\n",
    "                     'clf__n_estimators': [100,150], \n",
    "                     'clf__max_depth': [1, 3, 5],  \n",
    "                     'clf__learning_rate': [0.05,0.1]}\n",
    "\n",
    "#Instantiate hyperparapeter dictionary\n",
    "hyperparameters = {#'logisticregression':hyperparameters_lr ,\n",
    "                   #'decisiontree':hyperparameters_dt,\n",
    "                   #'randomforest':hyperparameters_rf,\n",
    "                   'gradientboosting': hyperparameters_gb}"
   ]
  },
  {
   "cell_type": "code",
   "execution_count": 145,
   "metadata": {},
   "outputs": [
    {
     "name": "stdout",
     "output_type": "stream",
     "text": [
      "Fitting 5 folds for each of 36 candidates, totalling 180 fits\n"
     ]
    },
    {
     "name": "stderr",
     "output_type": "stream",
     "text": [
      "[Parallel(n_jobs=-1)]: Using backend LokyBackend with 2 concurrent workers.\n",
      "[Parallel(n_jobs=-1)]: Done  37 tasks      | elapsed: 12.1min\n",
      "[Parallel(n_jobs=-1)]: Done 158 tasks      | elapsed: 111.2min\n",
      "[Parallel(n_jobs=-1)]: Done 180 out of 180 | elapsed: 144.2min finished\n"
     ]
    },
    {
     "name": "stdout",
     "output_type": "stream",
     "text": [
      "The gradientboosting model has been fitted.\n",
      "Best accuracy: 0.929\n",
      "Best params:\n",
      " {'clf__learning_rate': 0.1, 'clf__max_depth': 5, 'clf__n_estimators': 150, 'pca__n_components': 70} \n",
      "\n"
     ]
    }
   ],
   "source": [
    "model_scores_f1, fitted_models_f1 = grid_pipe(pipelines,hyperparameters,scoring='f1')"
   ]
  },
  {
   "cell_type": "code",
   "execution_count": 146,
   "metadata": {},
   "outputs": [
    {
     "data": {
      "text/html": [
       "<div>\n",
       "<style scoped>\n",
       "    .dataframe tbody tr th:only-of-type {\n",
       "        vertical-align: middle;\n",
       "    }\n",
       "\n",
       "    .dataframe tbody tr th {\n",
       "        vertical-align: top;\n",
       "    }\n",
       "\n",
       "    .dataframe thead th {\n",
       "        text-align: right;\n",
       "    }\n",
       "</style>\n",
       "<table border=\"1\" class=\"dataframe\">\n",
       "  <thead>\n",
       "    <tr style=\"text-align: right;\">\n",
       "      <th></th>\n",
       "      <th>f1_score</th>\n",
       "      <th>time</th>\n",
       "    </tr>\n",
       "    <tr>\n",
       "      <th>classifier</th>\n",
       "      <th></th>\n",
       "      <th></th>\n",
       "    </tr>\n",
       "  </thead>\n",
       "  <tbody>\n",
       "    <tr>\n",
       "      <th>gradientboosting</th>\n",
       "      <td>0.928702</td>\n",
       "      <td>8874.696679</td>\n",
       "    </tr>\n",
       "  </tbody>\n",
       "</table>\n",
       "</div>"
      ],
      "text/plain": [
       "                  f1_score         time\n",
       "classifier                             \n",
       "gradientboosting  0.928702  8874.696679"
      ]
     },
     "execution_count": 146,
     "metadata": {},
     "output_type": "execute_result"
    }
   ],
   "source": [
    "score_times_df_f1 = pd.DataFrame(model_scores_f1,\n",
    "                              columns=['classifier','f1_score',\n",
    "                                       'time']).set_index('classifier').sort_values('time')\n",
    "score_times_df_f1"
   ]
  },
  {
   "cell_type": "code",
   "execution_count": 153,
   "metadata": {},
   "outputs": [
    {
     "name": "stdout",
     "output_type": "stream",
     "text": [
      "gradientboosting :\n"
     ]
    },
    {
     "data": {
      "image/png": "[encoded data removed]",
      "text/plain": [
       "<Figure size 576x576 with 1 Axes>"
      ]
     },
     "metadata": {
      "needs_background": "light"
     },
     "output_type": "display_data"
    }
   ],
   "source": [
    "for name, model in fitted_models_f1.items():\n",
    "    if name in ['gradientboosting']:\n",
    "        pred = model.predict(X_test)\n",
    "        print(name,':')\n",
    "        plot_confusion_matrix_from_data(y_test,pred,columns=['Not-Promoted','Promoted'], cmap='Oranges')"
   ]
  },
  {
   "cell_type": "code",
   "execution_count": 154,
   "metadata": {},
   "outputs": [
    {
     "data": {
      "text/plain": [
       "{'clf__learning_rate': 0.1,\n",
       " 'clf__max_depth': 5,\n",
       " 'clf__n_estimators': 150,\n",
       " 'pca__n_components': 70}"
      ]
     },
     "execution_count": 154,
     "metadata": {},
     "output_type": "execute_result"
    }
   ],
   "source": [
    "fitted_models_f1['gradientboosting'].best_params_"
   ]
  },
  {
   "cell_type": "code",
   "execution_count": 155,
   "metadata": {},
   "outputs": [],
   "source": [
    "cat_col_index = list(range(len(num_cols_names),166))\n",
    "sm = SMOTENC(categorical_features=cat_col_index, random_state=123, n_jobs=-1)\n",
    "X_trainf, y_trainf = sm.fit_resample(train, target)"
   ]
  },
  {
   "cell_type": "code",
   "execution_count": 186,
   "metadata": {},
   "outputs": [
    {
     "data": {
      "image/png": "[encoded data removed]",
      "text/plain": [
       "<Figure size 864x432 with 1 Axes>"
      ]
     },
     "metadata": {
      "needs_background": "light"
     },
     "output_type": "display_data"
    }
   ],
   "source": [
    "#Instantiate Principal Component Analysis.\n",
    "#pca=PCA()\n",
    "X_pcaf = pca.fit_transform(train)\n",
    "fig = plt.figure(figsize=(12,6))\n",
    "plt.plot(range(1,train.shape[1]+1), pca.explained_variance_ratio_.cumsum())\n",
    "plt.title('Explained Variance versus Number of Features')\n",
    "plt.ylabel('Explained Variance')\n",
    "plt.xlabel('Number of Features')\n",
    "plt.show();"
   ]
  },
  {
   "cell_type": "code",
   "execution_count": 211,
   "metadata": {},
   "outputs": [
    {
     "name": "stdout",
     "output_type": "stream",
     "text": [
      "Number of Fetaures:  10 Total Explained Variance:  97.93 %\n",
      "Number of Fetaures:  20 Total Explained Variance:  98.57 %\n",
      "Number of Fetaures:  30 Total Explained Variance:  98.98 %\n",
      "Number of Fetaures:  40 Total Explained Variance:  99.26 %\n",
      "Number of Fetaures:  50 Total Explained Variance:  99.46 %\n",
      "Number of Fetaures:  60 Total Explained Variance:  99.61 %\n",
      "Number of Fetaures:  70 Total Explained Variance:  99.72 %\n",
      "Number of Fetaures:  80 Total Explained Variance:  99.8 %\n",
      "Number of Fetaures:  90 Total Explained Variance:  99.86 %\n",
      "Number of Fetaures:  100 Total Explained Variance:  99.91 %\n"
     ]
    }
   ],
   "source": [
    "for n in [10,20,30,40,50,60,70, 80,90,100]:\n",
    "    pca_fn = PCA(n_components=n)\n",
    "    X_pcafn = pca_fn.fit_transform(train)\n",
    "    test_pcafn = pca_fn.fit_transform(test)\n",
    "    tev = round(np.sum(pca_fn.explained_variance_ratio_)*100,2)\n",
    "    print('Number of Fetaures: ',n, 'Total Explained Variance: ',tev,'%')"
   ]
  },
  {
   "cell_type": "code",
   "execution_count": 200,
   "metadata": {},
   "outputs": [],
   "source": [
    "pca_fn = PCA(n_components=70)\n",
    "X_pcafn = pca_fn.fit_transform(train)\n",
    "test_pcafn = pca_fn.fit_transform(test)\n",
    "y_trainf;"
   ]
  },
  {
   "cell_type": "code",
   "execution_count": 214,
   "metadata": {},
   "outputs": [],
   "source": [
    "model = GradientBoostingClassifier(random_state=123, n_estimators=500, max_depth=15,\n",
    "                                   learning_rate=0.1)"
   ]
  },
  {
   "cell_type": "code",
   "execution_count": 215,
   "metadata": {},
   "outputs": [
    {
     "data": {
      "text/plain": [
       "GradientBoostingClassifier(criterion='friedman_mse', init=None,\n",
       "                           learning_rate=0.1, loss='deviance', max_depth=15,\n",
       "                           max_features=None, max_leaf_nodes=None,\n",
       "                           min_impurity_decrease=0.0, min_impurity_split=None,\n",
       "                           min_samples_leaf=1, min_samples_split=2,\n",
       "                           min_weight_fraction_leaf=0.0, n_estimators=500,\n",
       "                           n_iter_no_change=None, presort='auto',\n",
       "                           random_state=123, subsample=1.0, tol=0.0001,\n",
       "                           validation_fraction=0.1, verbose=0,\n",
       "                           warm_start=False)"
      ]
     },
     "execution_count": 215,
     "metadata": {},
     "output_type": "execute_result"
    }
   ],
   "source": [
    "model.fit(X_pcafn,target)"
   ]
  },
  {
   "cell_type": "code",
   "execution_count": 216,
   "metadata": {},
   "outputs": [],
   "source": [
    "labels= model.predict(test_pcafn)"
   ]
  },
  {
   "cell_type": "code",
   "execution_count": 217,
   "metadata": {},
   "outputs": [],
   "source": [
    "submission = pd.DataFrame({'EmployeeNo': test_id, 'Promoted_or_Not': labels})"
   ]
  },
  {
   "cell_type": "code",
   "execution_count": 218,
   "metadata": {},
   "outputs": [
    {
     "data": {
      "text/plain": [
       "array([0, 1], dtype=int64)"
      ]
     },
     "execution_count": 218,
     "metadata": {},
     "output_type": "execute_result"
    }
   ],
   "source": [
    "submission.Promoted_or_Not.unique()"
   ]
  },
  {
   "cell_type": "code",
   "execution_count": 219,
   "metadata": {},
   "outputs": [
    {
     "data": {
      "text/html": [
       "<div>\n",
       "<style scoped>\n",
       "    .dataframe tbody tr th:only-of-type {\n",
       "        vertical-align: middle;\n",
       "    }\n",
       "\n",
       "    .dataframe tbody tr th {\n",
       "        vertical-align: top;\n",
       "    }\n",
       "\n",
       "    .dataframe thead th {\n",
       "        text-align: right;\n",
       "    }\n",
       "</style>\n",
       "<table border=\"1\" class=\"dataframe\">\n",
       "  <thead>\n",
       "    <tr style=\"text-align: right;\">\n",
       "      <th></th>\n",
       "      <th>EmployeeNo</th>\n",
       "      <th>Promoted_or_Not</th>\n",
       "    </tr>\n",
       "  </thead>\n",
       "  <tbody>\n",
       "    <tr>\n",
       "      <th>0</th>\n",
       "      <td>YAK/S/00005</td>\n",
       "      <td>0</td>\n",
       "    </tr>\n",
       "    <tr>\n",
       "      <th>1</th>\n",
       "      <td>YAK/S/00011</td>\n",
       "      <td>0</td>\n",
       "    </tr>\n",
       "    <tr>\n",
       "      <th>2</th>\n",
       "      <td>YAK/S/00015</td>\n",
       "      <td>0</td>\n",
       "    </tr>\n",
       "    <tr>\n",
       "      <th>3</th>\n",
       "      <td>YAK/S/00016</td>\n",
       "      <td>0</td>\n",
       "    </tr>\n",
       "    <tr>\n",
       "      <th>4</th>\n",
       "      <td>YAK/S/00017</td>\n",
       "      <td>0</td>\n",
       "    </tr>\n",
       "  </tbody>\n",
       "</table>\n",
       "</div>"
      ],
      "text/plain": [
       "    EmployeeNo  Promoted_or_Not\n",
       "0  YAK/S/00005                0\n",
       "1  YAK/S/00011                0\n",
       "2  YAK/S/00015                0\n",
       "3  YAK/S/00016                0\n",
       "4  YAK/S/00017                0"
      ]
     },
     "execution_count": 219,
     "metadata": {},
     "output_type": "execute_result"
    }
   ],
   "source": [
    "submission.head(5)"
   ]
  },
  {
   "cell_type": "code",
   "execution_count": 220,
   "metadata": {},
   "outputs": [
    {
     "data": {
      "text/html": [
       "<div>\n",
       "<style scoped>\n",
       "    .dataframe tbody tr th:only-of-type {\n",
       "        vertical-align: middle;\n",
       "    }\n",
       "\n",
       "    .dataframe tbody tr th {\n",
       "        vertical-align: top;\n",
       "    }\n",
       "\n",
       "    .dataframe thead th {\n",
       "        text-align: right;\n",
       "    }\n",
       "</style>\n",
       "<table border=\"1\" class=\"dataframe\">\n",
       "  <thead>\n",
       "    <tr style=\"text-align: right;\">\n",
       "      <th></th>\n",
       "      <th>Promoted_or_Not</th>\n",
       "    </tr>\n",
       "    <tr>\n",
       "      <th>EmployeeNo</th>\n",
       "      <th></th>\n",
       "    </tr>\n",
       "  </thead>\n",
       "  <tbody>\n",
       "    <tr>\n",
       "      <th>YAK/S/36027</th>\n",
       "      <td>0</td>\n",
       "    </tr>\n",
       "    <tr>\n",
       "      <th>YAK/S/40875</th>\n",
       "      <td>0</td>\n",
       "    </tr>\n",
       "    <tr>\n",
       "      <th>YAK/S/44292</th>\n",
       "      <td>0</td>\n",
       "    </tr>\n",
       "    <tr>\n",
       "      <th>YAK/S/14610</th>\n",
       "      <td>0</td>\n",
       "    </tr>\n",
       "    <tr>\n",
       "      <th>YAK/S/13971</th>\n",
       "      <td>0</td>\n",
       "    </tr>\n",
       "  </tbody>\n",
       "</table>\n",
       "</div>"
      ],
      "text/plain": [
       "             Promoted_or_Not\n",
       "EmployeeNo                  \n",
       "YAK/S/36027                0\n",
       "YAK/S/40875                0\n",
       "YAK/S/44292                0\n",
       "YAK/S/14610                0\n",
       "YAK/S/13971                0"
      ]
     },
     "execution_count": 220,
     "metadata": {},
     "output_type": "execute_result"
    }
   ],
   "source": [
    "sampleSub = sampleSubmission.EmployeeNo.iloc[0:]\n",
    "indexSub= submission.set_index('EmployeeNo')\n",
    "submit= indexSub.reindex(sampleSub)\n",
    "submit.tail()"
   ]
  },
  {
   "cell_type": "code",
   "execution_count": 221,
   "metadata": {},
   "outputs": [
    {
     "data": {
      "text/plain": [
       "array([0, 1], dtype=int64)"
      ]
     },
     "execution_count": 221,
     "metadata": {},
     "output_type": "execute_result"
    }
   ],
   "source": [
    "submit.to_csv('submission4a.csv', index=True)\n",
    "submit.Promoted_or_Not.unique()"
   ]
  },
  {
   "cell_type": "code",
   "execution_count": 222,
   "metadata": {},
   "outputs": [
    {
     "data": {
      "text/plain": [
       "Promoted_or_Not    16496\n",
       "dtype: int64"
      ]
     },
     "execution_count": 222,
     "metadata": {},
     "output_type": "execute_result"
    }
   ],
   "source": [
    "submit.count()"
   ]
  },
  {
   "cell_type": "code",
   "execution_count": null,
   "metadata": {},
   "outputs": [],
   "source": []
  },
  {
   "cell_type": "markdown",
   "metadata": {},
   "source": [
    "## TRY ENTITY EMBEDDINGS"
   ]
  },
  {
   "cell_type": "code",
   "execution_count": 123,
   "metadata": {},
   "outputs": [],
   "source": [
    "train= pd.read_csv('train.csv')\n",
    "test= pd.read_csv('test.csv')\n",
    "sampleSubmission= pd.read_csv('sample_submission2.csv')"
   ]
  },
  {
   "cell_type": "code",
   "execution_count": 124,
   "metadata": {},
   "outputs": [],
   "source": [
    "test_id = test['EmployeeNo'] "
   ]
  },
  {
   "cell_type": "code",
   "execution_count": 125,
   "metadata": {},
   "outputs": [],
   "source": [
    "pd.set_option('display.max_columns', None)"
   ]
  },
  {
   "cell_type": "code",
   "execution_count": 126,
   "metadata": {},
   "outputs": [],
   "source": [
    "#Merge both train and test data\n",
    "df = train.append(test, sort=False, ignore_index=True)"
   ]
  },
  {
   "cell_type": "code",
   "execution_count": 127,
   "metadata": {},
   "outputs": [],
   "source": [
    "train.iloc[0:38312];\n"
   ]
  },
  {
   "cell_type": "code",
   "execution_count": 128,
   "metadata": {},
   "outputs": [
    {
     "data": {
      "text/plain": [
       "Index(['EmployeeNo', 'Division', 'Qualification', 'Gender',\n",
       "       'Channel_of_Recruitment', 'Trainings_Attended', 'Year_of_birth',\n",
       "       'Last_performance_score', 'Year_of_recruitment', 'Targets_met',\n",
       "       'Previous_Award', 'Training_score_average', 'State_Of_Origin',\n",
       "       'Foreign_schooled', 'Marital_Status', 'Past_Disciplinary_Action',\n",
       "       'Previous_IntraDepartmental_Movement', 'No_of_previous_employers',\n",
       "       'Promoted_or_Not'],\n",
       "      dtype='object')"
      ]
     },
     "execution_count": 128,
     "metadata": {},
     "output_type": "execute_result"
    }
   ],
   "source": [
    "train.columns"
   ]
  },
  {
   "cell_type": "code",
   "execution_count": 129,
   "metadata": {},
   "outputs": [],
   "source": [
    "df['employedAge'] = df.Year_of_recruitment - df.Year_of_birth\n",
    "\n"
   ]
  },
  {
   "cell_type": "code",
   "execution_count": 146,
   "metadata": {},
   "outputs": [
    {
     "data": {
      "image/png": "[encoded data removed]",
      "text/plain": [
       "<Figure size 432x288 with 1 Axes>"
      ]
     },
     "metadata": {
      "needs_background": "light"
     },
     "output_type": "display_data"
    }
   ],
   "source": [
    "X_train, X_test, y_train, y_test = train_test_split(train,target,random_state=123)\n",
    "clf = GradientBoostingClassifier()\n",
    "clf.fit(X_train,y_train)\n",
    "plot_feat_importance(clf, train.columns)"
   ]
  },
  {
   "cell_type": "code",
   "execution_count": 130,
   "metadata": {},
   "outputs": [],
   "source": [
    "#following the feature importance, we will drop the less important columns\n",
    "\n",
    "df = df.drop(['Qualification'], axis = 1)\n",
    "df = df.drop(['Gender'], axis = 1)\n",
    "df = df.drop(['Channel_of_Recruitment'], axis = 1)\n",
    "df = df.drop(['Trainings_Attended'], axis = 1)\n",
    "df = df.drop(['Year_of_birth'], axis = 1)\n",
    "df = df.drop(['Marital_Status'], axis = 1)\n",
    "df = df.drop(['State_Of_Origin'], axis = 1)\n",
    "df = df.drop(['No_of_previous_employers'], axis = 1)\n",
    "df = df.drop(['Previous_IntraDepartmental_Movement'], axis = 1)\n",
    "df = df.drop(['Past_Disciplinary_Action'], axis = 1)\n",
    "df = df.drop(['Foreign_schooled'], axis = 1)\n",
    "df = df.drop(['Year_of_recruitment'], axis = 1)\n",
    "df = df.drop(['EmployeeNo'], axis = 1)"
   ]
  },
  {
   "cell_type": "code",
   "execution_count": 131,
   "metadata": {},
   "outputs": [],
   "source": [
    "#path = untar_data(train)\n",
    "\n",
    "path = Path('Users/ANTHONY-PC/01workspace/dsn Challenge')"
   ]
  },
  {
   "cell_type": "code",
   "execution_count": 132,
   "metadata": {},
   "outputs": [],
   "source": [
    "df['Division'] = df['Division'] .astype(\"category\").cat.codes\n",
    "df['Last_performance_score'] = df['Last_performance_score'] .astype(\"category\").cat.codes"
   ]
  },
  {
   "cell_type": "code",
   "execution_count": 133,
   "metadata": {},
   "outputs": [],
   "source": [
    "train = df.iloc[0:38312]\n",
    "test = df.iloc[38312:]\n",
    "\n",
    "train.Promoted_or_Not=train.Promoted_or_Not.astype(int)\n",
    "test = test.drop(['Promoted_or_Not'], axis = 1)"
   ]
  },
  {
   "cell_type": "code",
   "execution_count": 134,
   "metadata": {},
   "outputs": [
    {
     "data": {
      "text/html": [
       "<div>\n",
       "<style scoped>\n",
       "    .dataframe tbody tr th:only-of-type {\n",
       "        vertical-align: middle;\n",
       "    }\n",
       "\n",
       "    .dataframe tbody tr th {\n",
       "        vertical-align: top;\n",
       "    }\n",
       "\n",
       "    .dataframe thead th {\n",
       "        text-align: right;\n",
       "    }\n",
       "</style>\n",
       "<table border=\"1\" class=\"dataframe\">\n",
       "  <thead>\n",
       "    <tr style=\"text-align: right;\">\n",
       "      <th></th>\n",
       "      <th>Division</th>\n",
       "      <th>Last_performance_score</th>\n",
       "      <th>Targets_met</th>\n",
       "      <th>Previous_Award</th>\n",
       "      <th>Training_score_average</th>\n",
       "      <th>Promoted_or_Not</th>\n",
       "      <th>employedAge</th>\n",
       "    </tr>\n",
       "  </thead>\n",
       "  <tbody>\n",
       "    <tr>\n",
       "      <th>0</th>\n",
       "      <td>1</td>\n",
       "      <td>5</td>\n",
       "      <td>1</td>\n",
       "      <td>0</td>\n",
       "      <td>41</td>\n",
       "      <td>0</td>\n",
       "      <td>25</td>\n",
       "    </tr>\n",
       "    <tr>\n",
       "      <th>1</th>\n",
       "      <td>2</td>\n",
       "      <td>5</td>\n",
       "      <td>0</td>\n",
       "      <td>0</td>\n",
       "      <td>52</td>\n",
       "      <td>0</td>\n",
       "      <td>24</td>\n",
       "    </tr>\n",
       "    <tr>\n",
       "      <th>2</th>\n",
       "      <td>1</td>\n",
       "      <td>3</td>\n",
       "      <td>0</td>\n",
       "      <td>0</td>\n",
       "      <td>42</td>\n",
       "      <td>0</td>\n",
       "      <td>25</td>\n",
       "    </tr>\n",
       "    <tr>\n",
       "      <th>3</th>\n",
       "      <td>1</td>\n",
       "      <td>1</td>\n",
       "      <td>0</td>\n",
       "      <td>0</td>\n",
       "      <td>42</td>\n",
       "      <td>0</td>\n",
       "      <td>27</td>\n",
       "    </tr>\n",
       "    <tr>\n",
       "      <th>4</th>\n",
       "      <td>4</td>\n",
       "      <td>3</td>\n",
       "      <td>0</td>\n",
       "      <td>0</td>\n",
       "      <td>77</td>\n",
       "      <td>0</td>\n",
       "      <td>22</td>\n",
       "    </tr>\n",
       "  </tbody>\n",
       "</table>\n",
       "</div>"
      ],
      "text/plain": [
       "   Division  Last_performance_score  Targets_met  Previous_Award  \\\n",
       "0         1                       5            1               0   \n",
       "1         2                       5            0               0   \n",
       "2         1                       3            0               0   \n",
       "3         1                       1            0               0   \n",
       "4         4                       3            0               0   \n",
       "\n",
       "   Training_score_average  Promoted_or_Not  employedAge  \n",
       "0                      41                0           25  \n",
       "1                      52                0           24  \n",
       "2                      42                0           25  \n",
       "3                      42                0           27  \n",
       "4                      77                0           22  "
      ]
     },
     "execution_count": 134,
     "metadata": {},
     "output_type": "execute_result"
    }
   ],
   "source": [
    "train.head()"
   ]
  },
  {
   "cell_type": "code",
   "execution_count": 135,
   "metadata": {},
   "outputs": [],
   "source": [
    "dep_var= ['Promoted_or_Not']\n",
    "cat_names=  ['Division','Last_performance_score']\n",
    "cont_names= ['Targets_met', \n",
    "             'Previous_Award', 'Training_score_average', 'employedAge']\n",
    "procs = [Categorify, Normalize]"
   ]
  },
  {
   "cell_type": "code",
   "execution_count": 136,
   "metadata": {},
   "outputs": [],
   "source": [
    "tests = TabularList.from_df(test, path=path, cat_names=cat_names, cont_names=cont_names, procs=procs)"
   ]
  },
  {
   "cell_type": "code",
   "execution_count": 137,
   "metadata": {},
   "outputs": [],
   "source": [
    "data = (TabularList.from_df(train, path=path, cat_names=cat_names, cont_names=cont_names, procs=procs)\n",
    "                           .split_by_rand_pct(valid_pct=0.02, seed=123) #.split_none()\n",
    "                           .label_from_df(cols=dep_var)\n",
    "                           .add_test(tests)\n",
    "                           .databunch(num_workers=0)) "
   ]
  },
  {
   "cell_type": "code",
   "execution_count": 138,
   "metadata": {},
   "outputs": [
    {
     "data": {
      "text/html": [
       "<table border=\"1\" class=\"dataframe\">\n",
       "  <thead>\n",
       "    <tr style=\"text-align: right;\">\n",
       "      <th>Division</th>\n",
       "      <th>Last_performance_score</th>\n",
       "      <th>Targets_met</th>\n",
       "      <th>Previous_Award</th>\n",
       "      <th>Training_score_average</th>\n",
       "      <th>employedAge</th>\n",
       "      <th>target</th>\n",
       "    </tr>\n",
       "  </thead>\n",
       "  <tbody>\n",
       "    <tr>\n",
       "      <td>4</td>\n",
       "      <td>4</td>\n",
       "      <td>1.3528</td>\n",
       "      <td>-0.1538</td>\n",
       "      <td>1.3927</td>\n",
       "      <td>-0.5022</td>\n",
       "      <td>1</td>\n",
       "    </tr>\n",
       "    <tr>\n",
       "      <td>1</td>\n",
       "      <td>5</td>\n",
       "      <td>1.3528</td>\n",
       "      <td>-0.1538</td>\n",
       "      <td>-1.0757</td>\n",
       "      <td>-0.3307</td>\n",
       "      <td>0</td>\n",
       "    </tr>\n",
       "    <tr>\n",
       "      <td>8</td>\n",
       "      <td>3</td>\n",
       "      <td>-0.7392</td>\n",
       "      <td>-0.1538</td>\n",
       "      <td>0.6447</td>\n",
       "      <td>-0.6736</td>\n",
       "      <td>0</td>\n",
       "    </tr>\n",
       "    <tr>\n",
       "      <td>2</td>\n",
       "      <td>3</td>\n",
       "      <td>-0.7392</td>\n",
       "      <td>-0.1538</td>\n",
       "      <td>-0.5521</td>\n",
       "      <td>0.3549</td>\n",
       "      <td>0</td>\n",
       "    </tr>\n",
       "    <tr>\n",
       "      <td>8</td>\n",
       "      <td>4</td>\n",
       "      <td>-0.7392</td>\n",
       "      <td>-0.1538</td>\n",
       "      <td>0.3455</td>\n",
       "      <td>0.0121</td>\n",
       "      <td>0</td>\n",
       "    </tr>\n",
       "  </tbody>\n",
       "</table>"
      ],
      "text/plain": [
       "<IPython.core.display.HTML object>"
      ]
     },
     "metadata": {},
     "output_type": "display_data"
    }
   ],
   "source": [
    "data.show_batch(rows=5)"
   ]
  },
  {
   "cell_type": "code",
   "execution_count": 142,
   "metadata": {},
   "outputs": [],
   "source": [
    "#\n",
    "learn = tabular_learner(data, layers=[200,10] ,metrics=[accuracy],ps=[0.04,0.07], callback_fns=ShowGraph) #ps=[0.001,0.01],emb_drop=0.09,"
   ]
  },
  {
   "cell_type": "code",
   "execution_count": 143,
   "metadata": {},
   "outputs": [
    {
     "data": {
      "text/html": [],
      "text/plain": [
       "<IPython.core.display.HTML object>"
      ]
     },
     "metadata": {},
     "output_type": "display_data"
    },
    {
     "name": "stdout",
     "output_type": "stream",
     "text": [
      "LR Finder is complete, type {learner_name}.recorder.plot() to see the graph.\n"
     ]
    },
    {
     "data": {
      "image/png": "[encoded data removed]",
      "text/plain": [
       "<Figure size 432x288 with 1 Axes>"
      ]
     },
     "metadata": {
      "needs_background": "light"
     },
     "output_type": "display_data"
    }
   ],
   "source": [
    "learn.lr_find()\n",
    "learn.recorder.plot()"
   ]
  },
  {
   "cell_type": "code",
   "execution_count": 144,
   "metadata": {},
   "outputs": [
    {
     "data": {
      "text/html": [
       "<table border=\"1\" class=\"dataframe\">\n",
       "  <thead>\n",
       "    <tr style=\"text-align: left;\">\n",
       "      <th>epoch</th>\n",
       "      <th>train_loss</th>\n",
       "      <th>valid_loss</th>\n",
       "      <th>accuracy</th>\n",
       "      <th>time</th>\n",
       "    </tr>\n",
       "  </thead>\n",
       "  <tbody>\n",
       "    <tr>\n",
       "      <td>0</td>\n",
       "      <td>0.496732</td>\n",
       "      <td>0.493133</td>\n",
       "      <td>0.886423</td>\n",
       "      <td>00:08</td>\n",
       "    </tr>\n",
       "    <tr>\n",
       "      <td>1</td>\n",
       "      <td>0.351749</td>\n",
       "      <td>0.328851</td>\n",
       "      <td>0.924282</td>\n",
       "      <td>00:08</td>\n",
       "    </tr>\n",
       "    <tr>\n",
       "      <td>2</td>\n",
       "      <td>0.196923</td>\n",
       "      <td>0.185000</td>\n",
       "      <td>0.941253</td>\n",
       "      <td>00:09</td>\n",
       "    </tr>\n",
       "    <tr>\n",
       "      <td>3</td>\n",
       "      <td>0.177575</td>\n",
       "      <td>0.182145</td>\n",
       "      <td>0.939948</td>\n",
       "      <td>00:08</td>\n",
       "    </tr>\n",
       "    <tr>\n",
       "      <td>4</td>\n",
       "      <td>0.179673</td>\n",
       "      <td>0.182204</td>\n",
       "      <td>0.932115</td>\n",
       "      <td>00:09</td>\n",
       "    </tr>\n",
       "    <tr>\n",
       "      <td>5</td>\n",
       "      <td>0.176253</td>\n",
       "      <td>0.171861</td>\n",
       "      <td>0.941253</td>\n",
       "      <td>00:11</td>\n",
       "    </tr>\n",
       "    <tr>\n",
       "      <td>6</td>\n",
       "      <td>0.170191</td>\n",
       "      <td>0.167120</td>\n",
       "      <td>0.945170</td>\n",
       "      <td>00:09</td>\n",
       "    </tr>\n",
       "    <tr>\n",
       "      <td>7</td>\n",
       "      <td>0.179520</td>\n",
       "      <td>0.164298</td>\n",
       "      <td>0.946475</td>\n",
       "      <td>00:10</td>\n",
       "    </tr>\n",
       "    <tr>\n",
       "      <td>8</td>\n",
       "      <td>0.182262</td>\n",
       "      <td>0.161653</td>\n",
       "      <td>0.943864</td>\n",
       "      <td>00:10</td>\n",
       "    </tr>\n",
       "    <tr>\n",
       "      <td>9</td>\n",
       "      <td>0.179413</td>\n",
       "      <td>0.160107</td>\n",
       "      <td>0.942559</td>\n",
       "      <td>00:10</td>\n",
       "    </tr>\n",
       "    <tr>\n",
       "      <td>10</td>\n",
       "      <td>0.178480</td>\n",
       "      <td>0.160168</td>\n",
       "      <td>0.945170</td>\n",
       "      <td>00:09</td>\n",
       "    </tr>\n",
       "    <tr>\n",
       "      <td>11</td>\n",
       "      <td>0.172733</td>\n",
       "      <td>0.157286</td>\n",
       "      <td>0.946475</td>\n",
       "      <td>00:10</td>\n",
       "    </tr>\n",
       "    <tr>\n",
       "      <td>12</td>\n",
       "      <td>0.163796</td>\n",
       "      <td>0.165948</td>\n",
       "      <td>0.943864</td>\n",
       "      <td>00:09</td>\n",
       "    </tr>\n",
       "    <tr>\n",
       "      <td>13</td>\n",
       "      <td>0.169829</td>\n",
       "      <td>0.157521</td>\n",
       "      <td>0.946475</td>\n",
       "      <td>00:09</td>\n",
       "    </tr>\n",
       "    <tr>\n",
       "      <td>14</td>\n",
       "      <td>0.167810</td>\n",
       "      <td>0.159161</td>\n",
       "      <td>0.946475</td>\n",
       "      <td>00:09</td>\n",
       "    </tr>\n",
       "    <tr>\n",
       "      <td>15</td>\n",
       "      <td>0.177252</td>\n",
       "      <td>0.158538</td>\n",
       "      <td>0.945170</td>\n",
       "      <td>00:09</td>\n",
       "    </tr>\n",
       "    <tr>\n",
       "      <td>16</td>\n",
       "      <td>0.165537</td>\n",
       "      <td>0.155103</td>\n",
       "      <td>0.947781</td>\n",
       "      <td>00:10</td>\n",
       "    </tr>\n",
       "    <tr>\n",
       "      <td>17</td>\n",
       "      <td>0.164555</td>\n",
       "      <td>0.154247</td>\n",
       "      <td>0.949086</td>\n",
       "      <td>00:09</td>\n",
       "    </tr>\n",
       "    <tr>\n",
       "      <td>18</td>\n",
       "      <td>0.162745</td>\n",
       "      <td>0.154164</td>\n",
       "      <td>0.949086</td>\n",
       "      <td>00:09</td>\n",
       "    </tr>\n",
       "    <tr>\n",
       "      <td>19</td>\n",
       "      <td>0.173212</td>\n",
       "      <td>0.157410</td>\n",
       "      <td>0.946475</td>\n",
       "      <td>00:09</td>\n",
       "    </tr>\n",
       "  </tbody>\n",
       "</table>"
      ],
      "text/plain": [
       "<IPython.core.display.HTML object>"
      ]
     },
     "metadata": {},
     "output_type": "display_data"
    },
    {
     "data": {
      "image/png": "[encoded data removed]",
      "text/plain": [
       "<Figure size 432x288 with 1 Axes>"
      ]
     },
     "metadata": {},
     "output_type": "display_data"
    }
   ],
   "source": [
    "#learn.fit(8, 1e-2)\n",
    "learn.fit_one_cycle(20, 1e-3)"
   ]
  },
  {
   "cell_type": "code",
   "execution_count": 106,
   "metadata": {},
   "outputs": [],
   "source": [
    "predictions, *_ = learn.get_preds(DatasetType.Test)\n",
    "labels = np.argmax(predictions, 1)"
   ]
  },
  {
   "cell_type": "code",
   "execution_count": 107,
   "metadata": {},
   "outputs": [],
   "source": [
    "submission = pd.DataFrame({'EmployeeNo': test_id, 'Promoted_or_Not': labels})"
   ]
  },
  {
   "cell_type": "code",
   "execution_count": 108,
   "metadata": {},
   "outputs": [
    {
     "data": {
      "text/html": [
       "<div>\n",
       "<style scoped>\n",
       "    .dataframe tbody tr th:only-of-type {\n",
       "        vertical-align: middle;\n",
       "    }\n",
       "\n",
       "    .dataframe tbody tr th {\n",
       "        vertical-align: top;\n",
       "    }\n",
       "\n",
       "    .dataframe thead th {\n",
       "        text-align: right;\n",
       "    }\n",
       "</style>\n",
       "<table border=\"1\" class=\"dataframe\">\n",
       "  <thead>\n",
       "    <tr style=\"text-align: right;\">\n",
       "      <th></th>\n",
       "      <th>Promoted_or_Not</th>\n",
       "    </tr>\n",
       "    <tr>\n",
       "      <th>EmployeeNo</th>\n",
       "      <th></th>\n",
       "    </tr>\n",
       "  </thead>\n",
       "  <tbody>\n",
       "    <tr>\n",
       "      <th>YAK/S/36027</th>\n",
       "      <td>0</td>\n",
       "    </tr>\n",
       "    <tr>\n",
       "      <th>YAK/S/40875</th>\n",
       "      <td>0</td>\n",
       "    </tr>\n",
       "    <tr>\n",
       "      <th>YAK/S/44292</th>\n",
       "      <td>0</td>\n",
       "    </tr>\n",
       "    <tr>\n",
       "      <th>YAK/S/14610</th>\n",
       "      <td>0</td>\n",
       "    </tr>\n",
       "    <tr>\n",
       "      <th>YAK/S/13971</th>\n",
       "      <td>0</td>\n",
       "    </tr>\n",
       "  </tbody>\n",
       "</table>\n",
       "</div>"
      ],
      "text/plain": [
       "             Promoted_or_Not\n",
       "EmployeeNo                  \n",
       "YAK/S/36027                0\n",
       "YAK/S/40875                0\n",
       "YAK/S/44292                0\n",
       "YAK/S/14610                0\n",
       "YAK/S/13971                0"
      ]
     },
     "execution_count": 108,
     "metadata": {},
     "output_type": "execute_result"
    }
   ],
   "source": [
    "# Rearrangew to Submission.csv\n",
    " \n",
    "\n",
    "\n",
    "sampleSub = sampleSubmission.EmployeeNo.iloc[0:]\n",
    "indexSub= submission.set_index('EmployeeNo')\n",
    "submit= indexSub.reindex(sampleSub)\n",
    "submit.tail()"
   ]
  },
  {
   "cell_type": "code",
   "execution_count": 109,
   "metadata": {},
   "outputs": [],
   "source": [
    "submit.to_csv('submission30i.csv', index=True)"
   ]
  },
  {
   "cell_type": "code",
   "execution_count": null,
   "metadata": {},
   "outputs": [],
   "source": []
  }
 ],
 "metadata": {
  "kernelspec": {
   "display_name": "Python 3",
   "language": "python",
   "name": "python3"
  },
  "language_info": {
   "codemirror_mode": {
    "name": "ipython",
    "version": 3
   },
   "file_extension": ".py",
   "mimetype": "text/x-python",
   "name": "python",
   "nbconvert_exporter": "python",
   "pygments_lexer": "ipython3",
   "version": "3.6.7"
  }
 },
 "nbformat": 4,
 "nbformat_minor": 2
}
